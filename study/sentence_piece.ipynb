{
  "nbformat": 4,
  "nbformat_minor": 0,
  "metadata": {
    "colab": {
      "name": "sentence_piece.ipynb",
      "provenance": [],
      "collapsed_sections": []
    },
    "kernelspec": {
      "name": "python3",
      "display_name": "Python 3"
    }
  },
  "cells": [
    {
      "cell_type": "markdown",
      "metadata": {
        "id": "TntbY7rLW7dK",
        "colab_type": "text"
      },
      "source": [
        "<h1>BPE 예제<h1>"
      ]
    },
    {
      "cell_type": "code",
      "metadata": {
        "id": "YF9rbO6vEMV-",
        "colab_type": "code",
        "colab": {
          "base_uri": "https://localhost:8080/",
          "height": 284
        },
        "outputId": "eb3152c0-7278-4243-d33a-a7062dbfc4c1",
        "tags": []
      },
      "source": [
        "import re, collections\n",
        "\n",
        "vocab = {'l o w </w>' : 5,\n",
        "         'l o w e r </w>' : 2,\n",
        "         'n e w e s t </w>':6,\n",
        "         'w i d e s t </w>':3\n",
        "         }\n",
        "\n",
        "def get_stats(vocab):\n",
        "    # 개수를 세는 모듈\n",
        "    pairs = collections.defaultdict(int)\n",
        "\n",
        "    for word, freq in vocab.items():\n",
        "        symbols = word.split()\n",
        "\n",
        "        for i in range(len(symbols)-1):\n",
        "            # 연속된 두 글자씩의 빈도수 저장\n",
        "            pairs[symbols[i],symbols[i+1]] += freq\n",
        "            # print(pairs[symbols[i],symbols[i+1]])\n",
        "    \n",
        "    return pairs\n",
        "\n",
        "get_stats(vocab)\n"
      ],
      "execution_count": 1,
      "outputs": [
        {
          "output_type": "execute_result",
          "data": {
            "text/plain": "defaultdict(int,\n            {('l', 'o'): 7,\n             ('o', 'w'): 7,\n             ('w', '</w>'): 5,\n             ('w', 'e'): 8,\n             ('e', 'r'): 2,\n             ('r', '</w>'): 2,\n             ('n', 'e'): 6,\n             ('e', 'w'): 6,\n             ('e', 's'): 9,\n             ('s', 't'): 9,\n             ('t', '</w>'): 9,\n             ('w', 'i'): 3,\n             ('i', 'd'): 3,\n             ('d', 'e'): 3})"
          },
          "metadata": {},
          "execution_count": 1
        }
      ]
    },
    {
      "cell_type": "code",
      "metadata": {
        "id": "KK2gSVUuFleI",
        "colab_type": "code",
        "colab": {}
      },
      "source": [
        "def merge_vocab(pair, v_in):\n",
        "    v_out = {}\n",
        "    bigram = re.escape(' '.join(pair))\n",
        "    p = re.compile(r'(?<!\\S)' + bigram + r'(?!\\S)')\n",
        "\n",
        "    for word in v_in:\n",
        "        # pair 두 글자를 붙임 (e s -> es)\n",
        "        w_out = p.sub(''.join(pair), word)\n",
        "        v_out[w_out] = v_in[word]\n",
        "    \n",
        "    return v_out"
      ],
      "execution_count": 2,
      "outputs": []
    },
    {
      "cell_type": "code",
      "metadata": {
        "id": "Xkd3l2uWGkpX",
        "colab_type": "code",
        "colab": {
          "base_uri": "https://localhost:8080/",
          "height": 34
        },
        "outputId": "20336ff2-0bfa-4879-fe45-bca97d326d2c"
      },
      "source": [
        "# 특수문자에 \\추가하여 정규표현식에 사용\n",
        "# re.escape 함수는 문자열을 입력받으면 특수문자들을 이스케이프 처리시켜 준다.\n",
        "re.escape(' '.join(('e', 's')))"
      ],
      "execution_count": 3,
      "outputs": [
        {
          "output_type": "execute_result",
          "data": {
            "text/plain": "'e\\\\ s'"
          },
          "metadata": {},
          "execution_count": 3
        }
      ]
    },
    {
      "cell_type": "code",
      "metadata": {
        "id": "nN38QEV9GVDT",
        "colab_type": "code",
        "colab": {
          "base_uri": "https://localhost:8080/",
          "height": 88
        },
        "outputId": "bd85bdce-f18a-4d26-f293-34923c04018a"
      },
      "source": [
        "vocab"
      ],
      "execution_count": 4,
      "outputs": [
        {
          "output_type": "execute_result",
          "data": {
            "text/plain": "{'l o w </w>': 5,\n 'l o w e r </w>': 2,\n 'n e w e s t </w>': 6,\n 'w i d e s t </w>': 3}"
          },
          "metadata": {},
          "execution_count": 4
        }
      ]
    },
    {
      "cell_type": "code",
      "metadata": {
        "id": "8PlCgNa8GVQV",
        "colab_type": "code",
        "colab": {
          "base_uri": "https://localhost:8080/",
          "height": 88
        },
        "outputId": "968f77a8-236d-4fe6-d5fa-4fc2817cb66f"
      },
      "source": [
        "merge_vocab(('e', 's'), vocab)"
      ],
      "execution_count": 5,
      "outputs": [
        {
          "output_type": "execute_result",
          "data": {
            "text/plain": "{'l o w </w>': 5,\n 'l o w e r </w>': 2,\n 'n e w es t </w>': 6,\n 'w i d es t </w>': 3}"
          },
          "metadata": {},
          "execution_count": 5
        }
      ]
    },
    {
      "cell_type": "code",
      "metadata": {
        "id": "dhg7kNFCDyXN",
        "colab_type": "code",
        "colab": {
          "base_uri": "https://localhost:8080/",
          "height": 195
        },
        "outputId": "b98435ec-ed1a-4134-c9d8-a273bfe694e4",
        "tags": []
      },
      "source": [
        "num_merges = 10\n",
        "\n",
        "for i in range(num_merges):\n",
        "    pairs = get_stats(vocab)\n",
        "    best = max(pairs, key=pairs.get)\n",
        "    vocab = merge_vocab(best, vocab)\n",
        "    print(best)"
      ],
      "execution_count": 6,
      "outputs": [
        {
          "output_type": "stream",
          "name": "stdout",
          "text": "('e', 's')\n('es', 't')\n('est', '</w>')\n('l', 'o')\n('lo', 'w')\n('n', 'e')\n('ne', 'w')\n('new', 'est</w>')\n('low', '</w>')\n('w', 'i')\n"
        }
      ]
    },
    {
      "cell_type": "code",
      "metadata": {
        "id": "E6_8OXR1VS5o",
        "colab_type": "code",
        "colab": {
          "base_uri": "https://localhost:8080/",
          "height": 34
        },
        "outputId": "11e20570-5569-4e96-faf5-b0bb2192620c"
      },
      "source": [
        "vocab"
      ],
      "execution_count": 7,
      "outputs": [
        {
          "output_type": "execute_result",
          "data": {
            "text/plain": "{'low</w>': 5, 'low e r </w>': 2, 'newest</w>': 6, 'wi d est</w>': 3}"
          },
          "metadata": {},
          "execution_count": 7
        }
      ]
    },
    {
      "cell_type": "markdown",
      "metadata": {
        "id": "nuonNfNTXHT8",
        "colab_type": "text"
      },
      "source": [
        "<br>\n",
        "<br>\n",
        "<br>\n",
        "<h1>SentencePiece 예제<h1>"
      ]
    },
    {
      "cell_type": "code",
      "metadata": {
        "id": "OPSrRMomXOft",
        "colab_type": "code",
        "colab": {
          "base_uri": "https://localhost:8080/",
          "height": 126
        },
        "outputId": "0bf02df8-e13f-4ff0-b7bc-5cfbdd199736",
        "tags": []
      },
      "source": [
        "!pip install sentencepiece"
      ],
      "execution_count": 8,
      "outputs": [
        {
          "output_type": "stream",
          "name": "stdout",
          "text": "Requirement already satisfied: sentencepiece in c:\\users\\bitcamp\\anaconda3\\lib\\site-packages (0.1.91)\n"
        }
      ]
    },
    {
      "cell_type": "code",
      "metadata": {
        "id": "fDSDfxJqY0YI",
        "colab_type": "code",
        "colab": {}
      },
      "source": [
        "import sentencepiece as spm\n",
        "\n",
        "input_file = 'spm_input.txt'\n",
        "\n",
        "corpus = [\n",
        "    '딥러닝은 인공지능의 한 종류다',\n",
        "    '딥러닝에는 지도학습과 비지도학습이 있다',\n",
        "    '인공지능은 어렵다',\n",
        "    '딥러닝도 어렵다',\n",
        "    '인공지능은 신기하다'\n",
        "]\n",
        "\n",
        "with open(input_file, 'w', encoding='utf-8') as f:\n",
        "    for sent in corpus:\n",
        "        f.write('{}\\n'.format(sent))\n",
        "\n",
        "templates = '--input={} --model_prefix={} --vocab_size={}'\n",
        "\n",
        "vocab_size = 30\n",
        "prefix = 'data'\n",
        "cmd = templates.format(input_file, prefix, vocab_size)\n",
        "\n",
        "spm.SentencePieceTrainer.Train(cmd)"
      ],
      "execution_count": 9,
      "outputs": []
    },
    {
      "cell_type": "code",
      "metadata": {
        "id": "hvA-J8vPaHBC",
        "colab_type": "code",
        "colab": {
          "base_uri": "https://localhost:8080/",
          "height": 34
        },
        "outputId": "af3b622d-49ab-425b-d42a-22ac924f1393"
      },
      "source": [
        "sp = spm.SentencePieceProcessor()\n",
        "sp.Load('{}.model'.format(prefix))\n",
        "\n",
        "sp.EncodeAsPieces('딥러닝은 인공지능의 한 종류다')"
      ],
      "execution_count": 10,
      "outputs": [
        {
          "output_type": "execute_result",
          "data": {
            "text/plain": "['▁딥러닝', '은', '▁', '인', '공', '지', '능', '의', '▁', '한', '▁', '종', '류', '다']"
          },
          "metadata": {},
          "execution_count": 10
        }
      ]
    },
    {
      "cell_type": "code",
      "metadata": {
        "id": "hNfix-zsafmQ",
        "colab_type": "code",
        "colab": {
          "base_uri": "https://localhost:8080/",
          "height": 34
        },
        "outputId": "54e85dd4-089f-44b2-91b1-800978df5de1"
      },
      "source": [
        "sp.EncodeAsIds('딥러닝은 인공지능의 한 종류다')"
      ],
      "execution_count": 11,
      "outputs": [
        {
          "output_type": "execute_result",
          "data": {
            "text/plain": "[4, 7, 3, 9, 14, 28, 13, 24, 3, 29, 3, 27, 21, 6]"
          },
          "metadata": {},
          "execution_count": 11
        }
      ]
    },
    {
      "cell_type": "code",
      "metadata": {
        "id": "xMn8_P5Iamua",
        "colab_type": "code",
        "colab": {
          "base_uri": "https://localhost:8080/",
          "height": 34
        },
        "outputId": "17470425-4c36-4bfe-8587-485ca56fa75a",
        "tags": []
      },
      "source": [
        "with open('{}.vocab'.format(prefix), encoding='utf-8') as f:\n",
        "    vocabs = [doc.strip() for doc in f]\n",
        "\n",
        "print('num of vocabs = {}'.format(len(vocabs)))"
      ],
      "execution_count": 12,
      "outputs": [
        {
          "output_type": "stream",
          "name": "stdout",
          "text": "num of vocabs = 30\n"
        }
      ]
    },
    {
      "cell_type": "code",
      "metadata": {
        "id": "wnbnpJ-caqf1",
        "colab_type": "code",
        "colab": {
          "base_uri": "https://localhost:8080/",
          "height": 552
        },
        "outputId": "a805e88c-67c9-4610-e146-89a1507aa923"
      },
      "source": [
        "vocabs # 숫자가 낮을수록 빈도수 높은 것"
      ],
      "execution_count": 13,
      "outputs": [
        {
          "output_type": "execute_result",
          "data": {
            "text/plain": "['<unk>\\t0',\n '<s>\\t0',\n '</s>\\t0',\n '▁\\t-1.84384',\n '▁딥러닝\\t-2.42717',\n '▁어렵다\\t-2.92717',\n '다\\t-2.92717',\n '은\\t-2.92717',\n '학\\t-3.92617',\n '인\\t-3.92627',\n '어\\t-3.92637',\n '습\\t-3.92647',\n '렵\\t-3.92657',\n '능\\t-3.92667',\n '공\\t-3.92677',\n '러\\t-3.92687',\n '딥\\t-3.92697',\n '닝\\t-3.92707',\n '과\\t-3.92717',\n '는\\t-3.92717',\n '도\\t-3.92717',\n '류\\t-3.92717',\n '비\\t-3.92717',\n '에\\t-3.92717',\n '의\\t-3.92717',\n '이\\t-3.92717',\n '있\\t-3.92717',\n '종\\t-3.92717',\n '지\\t-3.92717',\n '한\\t-3.92717']"
          },
          "metadata": {},
          "execution_count": 13
        }
      ]
    },
    {
      "cell_type": "code",
      "execution_count": null,
      "metadata": {},
      "outputs": [],
      "source": []
    }
  ]
}