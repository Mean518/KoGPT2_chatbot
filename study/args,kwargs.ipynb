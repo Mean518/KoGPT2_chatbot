{
 "metadata": {
  "language_info": {
   "codemirror_mode": {
    "name": "ipython",
    "version": 3
   },
   "file_extension": ".py",
   "mimetype": "text/x-python",
   "name": "python",
   "nbconvert_exporter": "python",
   "pygments_lexer": "ipython3",
   "version": "3.7.6-final"
  },
  "orig_nbformat": 2,
  "kernelspec": {
   "name": "python_defaultSpec_1599495688243",
   "display_name": "Python 3.7.6 64-bit ('base': conda)"
  }
 },
 "nbformat": 4,
 "nbformat_minor": 2,
 "cells": [
  {
   "cell_type": "markdown",
   "metadata": {},
   "source": [
    "# args는 arguments의 줄임말"
   ]
  },
  {
   "cell_type": "code",
   "execution_count": 4,
   "metadata": {},
   "outputs": [],
   "source": [
    "# 이 지시어는 여러 개(복수개)의 인자를 함수로 받고자 할 때 쓴다\n",
    "# 사람의 이름을 받아서 성과 이름을 분리한 후 출력하고 싶은데\n",
    "# 사용자가 '몇 개'의 이름을 적어 넣을 지 알 수 가 없을 때\n",
    "# 이럴 때 *args를 인자로 받는다\n"
   ]
  },
  {
   "cell_type": "code",
   "execution_count": 8,
   "metadata": {},
   "outputs": [],
   "source": [
    "def lastName_and_FirstName(*Names):\n",
    "    for name in Names:\n",
    "        print(\"%s %s\" % (name[0],name[1:3]),end=' ')\n",
    "    print(\"\\n\")"
   ]
  },
  {
   "cell_type": "code",
   "execution_count": 9,
   "metadata": {
    "tags": []
   },
   "outputs": [
    {
     "output_type": "stream",
     "name": "stdout",
     "text": "이 천수 \n\n"
    }
   ],
   "source": [
    "lastName_and_FirstName(\"이천수\")"
   ]
  },
  {
   "cell_type": "code",
   "execution_count": 10,
   "metadata": {
    "tags": []
   },
   "outputs": [
    {
     "output_type": "stream",
     "name": "stdout",
     "text": "이 천수 안 정환 \n\n"
    }
   ],
   "source": [
    "lastName_and_FirstName(\"이천수\",\"안정환\")"
   ]
  },
  {
   "cell_type": "code",
   "execution_count": 12,
   "metadata": {
    "tags": []
   },
   "outputs": [
    {
     "output_type": "stream",
     "name": "stdout",
     "text": "이 천수 안 정환 황 선홍 \n\n"
    }
   ],
   "source": [
    "lastName_and_FirstName(\"이천수\", \"안정환\",\"황선홍\")"
   ]
  },
  {
   "cell_type": "code",
   "execution_count": 13,
   "metadata": {},
   "outputs": [],
   "source": [
    "# args를 출력해보면 tuple형태\n",
    "# 여러 개의 인자로 함수를 호출할 경우, 함수 내부에서는 튜플로 받은 것처럼 인식"
   ]
  },
  {
   "cell_type": "code",
   "execution_count": 18,
   "metadata": {
    "tags": []
   },
   "outputs": [
    {
     "output_type": "stream",
     "name": "stdout",
     "text": "이 천수 안 정환 황 선홍 \n\n<class 'tuple'> ('이천수', '안정환', '황선홍')\n"
    }
   ],
   "source": [
    "def lastName_and_FirstName(*Names):\n",
    "    for name in Names:\n",
    "        print(\"%s %s\" % (name[0],name[1:3]),end=' ')\n",
    "    print(\"\\n\")\n",
    "    print(type(Names),Names)\n",
    "lastName_and_FirstName(\"이천수\",\"안정환\",\"황선홍\")"
   ]
  },
  {
   "cell_type": "markdown",
   "metadata": {},
   "source": [
    "# kwargs는 keyword argument의 줄임말"
   ]
  },
  {
   "cell_type": "code",
   "execution_count": 20,
   "metadata": {
    "tags": []
   },
   "outputs": [
    {
     "output_type": "stream",
     "name": "stdout",
     "text": "MyName is Chris!!\n"
    }
   ],
   "source": [
    "# 키워드 제공\n",
    "def introduceEnglishName(**kwargs):\n",
    "    for key,value in kwargs.items():\n",
    "        print(\"{0} is {1}\".format(key,value))\n",
    "introduceEnglishName(MyName='Chris!!')"
   ]
  },
  {
   "cell_type": "code",
   "execution_count": 21,
   "metadata": {},
   "outputs": [],
   "source": [
    "# **kwargs는 (키워드=특정값) 형태로 함수 호출 가능\n",
    "# 그대로 딕셔너리 형태로 {\"키워드\":\"특정값\"} 이 형태로 함수 내부로 전달"
   ]
  },
  {
   "cell_type": "code",
   "execution_count": 22,
   "metadata": {
    "tags": []
   },
   "outputs": [
    {
     "output_type": "stream",
     "name": "stdout",
     "text": "MyName is Chris\n주인님 오셨군요. 오늘 기분이 어떠세요?\n"
    }
   ],
   "source": [
    "# 다른 예시\n",
    "def introduceEnglishName(**kwargs):\n",
    "    for key,value in kwargs.items():\n",
    "        if 'ant' in kwargs.keys():\n",
    "            print(\"주인님 오셨군요. 오늘 기분이 어떠세요?\")\n",
    "        else:\n",
    "            print(\"{0} is {1}\".format(key,value))\n",
    "introduceEnglishName(MyName='Chris')\n",
    "introduceEnglishName(ant='Chris')"
   ]
  },
  {
   "cell_type": "code",
   "execution_count": null,
   "metadata": {},
   "outputs": [],
   "source": []
  }
 ]
}