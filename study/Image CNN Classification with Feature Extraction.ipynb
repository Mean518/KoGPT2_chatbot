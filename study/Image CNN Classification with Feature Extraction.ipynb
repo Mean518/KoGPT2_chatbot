{
 "cells": [
  {
   "cell_type": "code",
   "execution_count": 1,
   "metadata": {},
   "outputs": [
    {
     "name": "stderr",
     "output_type": "stream",
     "text": [
      "Using TensorFlow backend.\n"
     ]
    }
   ],
   "source": [
    "from keras import models\n",
    "from keras import layers\n",
    "from keras import optimizers, losses, metrics\n",
    "from keras.utils import to_categorical\n",
    "from keras.preprocessing.image import ImageDataGenerator\n",
    "from keras.applications import VGG16\n",
    "\n",
    "import numpy as np\n",
    "import matplotlib.pyplot as plt\n",
    "import os"
   ]
  },
  {
   "cell_type": "markdown",
   "metadata": {},
   "source": [
    "<br>\n",
    "<br>\n",
    "\n",
    "# 데이터 로드 / 전처리"
   ]
  },
  {
   "cell_type": "code",
   "execution_count": 2,
   "metadata": {},
   "outputs": [
    {
     "name": "stdout",
     "output_type": "stream",
     "text": [
      "Found 1800 images belonging to 10 classes.\n",
      "Found 600 images belonging to 10 classes.\n",
      "Found 600 images belonging to 10 classes.\n"
     ]
    }
   ],
   "source": [
    "# 데이터셋 디렉터리 경로\n",
    "dataset_dir = './dataset/caltech101'\n",
    "train_dir = os.path.join(dataset_dir, 'train')\n",
    "validation_dir = os.path.join(dataset_dir, 'validation')\n",
    "test_dir = os.path.join(dataset_dir, 'test')\n",
    "\n",
    "# 사진 크기\n",
    "image_width = 100\n",
    "image_height = 100\n",
    "\n",
    "# ImageDataGenerator 초기화\n",
    "# 0~1 사이로 숫자값 변경\n",
    "train_datagen = ImageDataGenerator(rescale=1./255)\n",
    "validation_datagen = ImageDataGenerator(rescale=1./255)\n",
    "test_datagen = ImageDataGenerator(rescale=1./255)\n",
    "\n",
    "# 훈련셋 제너레이터\n",
    "train_generator = train_datagen.flow_from_directory(\n",
    "    train_dir,\n",
    "    target_size=(image_width, image_height),\n",
    "    batch_size=30,\n",
    "    class_mode='categorical')\n",
    "\n",
    "# 검증셋 제너레이터\n",
    "validation_generator = validation_datagen.flow_from_directory(\n",
    "    validation_dir,\n",
    "    target_size=(image_width, image_height),\n",
    "    batch_size=30,\n",
    "    class_mode='categorical')\n",
    "\n",
    "# 테스트셋 제너레이터\n",
    "test_generator = test_datagen.flow_from_directory(\n",
    "    test_dir,\n",
    "    target_size=(image_width, image_height),\n",
    "    batch_size=30,\n",
    "    class_mode='categorical')\n"
   ]
  },
  {
   "cell_type": "markdown",
   "metadata": {},
   "source": [
    "<br>\n",
    "<br>\n",
    "\n",
    "# 모델 생성"
   ]
  },
  {
   "cell_type": "code",
   "execution_count": 3,
   "metadata": {},
   "outputs": [],
   "source": [
    "# VGG16 모델 생성\n",
    "base_model = VGG16(weights='imagenet',\n",
    "                   include_top=False,\n",
    "                   input_shape=(image_width, image_height, 3))\n",
    "\n",
    "# 학습이 안되도록 설정\n",
    "base_model.trainable = False"
   ]
  },
  {
   "cell_type": "markdown",
   "metadata": {},
   "source": [
    "케라스에서 기본으로 제공하는 VGG16 모델을 사용하여 전이 학습을 하겠습니다. 'imagenet'으로 사전 훈련된 모델로, 완전연결 레이어인 최상층은 제외합니다. 특성 추출이기 때문에 베이스 모델은 학습이 안되게 합니다.\n",
    "\n",
    "사전 훈련 모델에서 완전연결 아래층들은 이미지의 특징을 고차원적으로 파악하도록 미리 훈련되어 있습니다. 여기에 우리가 가진 데이터를 넣고 새로 학습을 합니다. 이렇게 하면 데이터가 적어도 더욱 빠르고 정확하게 학습이 가능합니다.\n",
    "<br>\n",
    "<br>\n",
    "<br>"
   ]
  },
  {
   "cell_type": "code",
   "execution_count": 4,
   "metadata": {},
   "outputs": [],
   "source": [
    "def build_model():\n",
    "    \n",
    "    model = models.Sequential()\n",
    "    model.add(base_model)\n",
    "    model.add(layers.Flatten())\n",
    "    model.add(layers.Dropout(0.5))\n",
    "    model.add(layers.Dense(256, activation='relu'))\n",
    "    model.add(layers.Dense(10, activation='softmax'))\n",
    "\n",
    "    model.compile(optimizer='rmsprop',\n",
    "                  loss='categorical_crossentropy',\n",
    "                  metrics=['acc'])    \n",
    "    \n",
    "    return model"
   ]
  },
  {
   "cell_type": "markdown",
   "metadata": {},
   "source": [
    "베이스 모델에 새로 Dense 레이어만 추가하였습니다."
   ]
  },
  {
   "cell_type": "markdown",
   "metadata": {},
   "source": [
    "<br>\n",
    "<br>\n",
    "\n",
    "# 훈련 및 평가"
   ]
  },
  {
   "cell_type": "code",
   "execution_count": 5,
   "metadata": {},
   "outputs": [
    {
     "name": "stdout",
     "output_type": "stream",
     "text": [
      "Epoch 1/10\n",
      "60/60 [==============================] - 381s 6s/step - loss: 0.6240 - acc: 0.8294 - val_loss: 0.1169 - val_acc: 0.9600\n",
      "Epoch 2/10\n",
      "60/60 [==============================] - 379s 6s/step - loss: 0.1341 - acc: 0.9556 - val_loss: 0.1030 - val_acc: 0.9650\n",
      "Epoch 3/10\n",
      "60/60 [==============================] - 419s 7s/step - loss: 0.0841 - acc: 0.9756 - val_loss: 0.1779 - val_acc: 0.9550\n",
      "Epoch 4/10\n",
      "60/60 [==============================] - 411s 7s/step - loss: 0.0619 - acc: 0.9811 - val_loss: 0.0705 - val_acc: 0.9800\n",
      "Epoch 5/10\n",
      "60/60 [==============================] - 427s 7s/step - loss: 0.0295 - acc: 0.9906 - val_loss: 0.0865 - val_acc: 0.9767\n",
      "Epoch 6/10\n",
      "60/60 [==============================] - 408s 7s/step - loss: 0.0394 - acc: 0.9878 - val_loss: 0.1326 - val_acc: 0.9683\n",
      "Epoch 7/10\n",
      "60/60 [==============================] - 417s 7s/step - loss: 0.0146 - acc: 0.9944 - val_loss: 0.1169 - val_acc: 0.9650\n",
      "Epoch 8/10\n",
      "60/60 [==============================] - 412s 7s/step - loss: 0.0215 - acc: 0.9928 - val_loss: 0.1016 - val_acc: 0.9733\n",
      "Epoch 9/10\n",
      "60/60 [==============================] - 420s 7s/step - loss: 0.0291 - acc: 0.9878 - val_loss: 0.1786 - val_acc: 0.9667\n",
      "Epoch 10/10\n",
      "60/60 [==============================] - 404s 7s/step - loss: 0.0110 - acc: 0.9983 - val_loss: 0.1762 - val_acc: 0.9717\n"
     ]
    }
   ],
   "source": [
    "# 모델 생성\n",
    "model = build_model()\n",
    "\n",
    "# 훈련 시작\n",
    "history = model.fit_generator(train_generator,\n",
    "                              steps_per_epoch=60,\n",
    "                              epochs=10,\n",
    "                              validation_data=validation_generator,\n",
    "                              validation_steps=20)\n"
   ]
  },
  {
   "cell_type": "code",
   "execution_count": 6,
   "metadata": {},
   "outputs": [
    {
     "data": {
      "image/png": "[encoded data removed]",
      "text/plain": [
       "<Figure size 432x288 with 1 Axes>"
      ]
     },
     "metadata": {},
     "output_type": "display_data"
    }
   ],
   "source": [
    "loss = history.history['loss']         # 훈련 손실\n",
    "val_loss = history.history['val_loss'] # 검증 손실\n",
    "\n",
    "epochs = range(1, len(loss) + 1)\n",
    "\n",
    "plt.plot(epochs, loss, 'bo', label='Training loss')      # bo -> 파란색 점\n",
    "plt.plot(epochs, val_loss, 'b', label='Validation loss') # b -> 파란색 실선\n",
    "plt.title('Training and validation loss')\n",
    "plt.xlabel('Epochs')\n",
    "plt.ylabel('Loss')\n",
    "plt.legend()\n",
    "\n",
    "plt.show()\n"
   ]
  },
  {
   "cell_type": "code",
   "execution_count": 7,
   "metadata": {},
   "outputs": [
    {
     "data": {
      "image/png": "[encoded data removed]",
      "text/plain": [
       "<Figure size 432x288 with 1 Axes>"
      ]
     },
     "metadata": {},
     "output_type": "display_data"
    }
   ],
   "source": [
    "acc = history.history['acc']           # 훈련 정확도\n",
    "val_acc = history.history['val_acc']   # 검증 정확도\n",
    "\n",
    "plt.plot(epochs, acc, 'bo', label='Training acc')\n",
    "plt.plot(epochs, val_acc, 'b', label='Validation acc')\n",
    "plt.title('Training and validation accuracy')\n",
    "plt.xlabel('Epochs')\n",
    "plt.ylabel('Accuracy')\n",
    "plt.legend()\n",
    "\n",
    "plt.show()\n"
   ]
  },
  {
   "cell_type": "markdown",
   "metadata": {},
   "source": [
    "검증 정확도가 최고 98% 나왔습니다. 데이터 증식을 하지 않았는데도 이전의 94% 보다 훨씬 성능이 향상되었습니다. \n",
    "<br>\n",
    "<br>\n",
    "<br>"
   ]
  },
  {
   "cell_type": "code",
   "execution_count": 8,
   "metadata": {},
   "outputs": [],
   "source": [
    "# 모델 저장\n",
    "model.save('./model/image_cnn_feature_extraction_model.h5')"
   ]
  },
  {
   "cell_type": "markdown",
   "metadata": {},
   "source": [
    "<br>\n",
    "<br>\n",
    "\n",
    "# 테스트셋 확인"
   ]
  },
  {
   "cell_type": "code",
   "execution_count": 9,
   "metadata": {},
   "outputs": [
    {
     "name": "stderr",
     "output_type": "stream",
     "text": [
      "C:\\ProgramData\\Anaconda3\\lib\\site-packages\\keras\\engine\\saving.py:327: UserWarning: Error in loading the saved optimizer state. As a result, your model is starting with a freshly initialized optimizer.\n",
      "  warnings.warn('Error in loading the saved optimizer '\n"
     ]
    }
   ],
   "source": [
    "# 저장된 모델 파일 로드\n",
    "model = models.load_model('./model/image_cnn_feature_extraction_model.h5')"
   ]
  },
  {
   "cell_type": "markdown",
   "metadata": {},
   "source": [
    "모델의 trainable을 False로 변경하면 케라스와 텐서플로 버전에 따라 로드시 경고가 발생할 수 있습니다. 사용에는 문제가 없으니 안심하시기 바랍니다.\n",
    "<br>\n",
    "<br>\n",
    "<br>"
   ]
  },
  {
   "cell_type": "code",
   "execution_count": 10,
   "metadata": {},
   "outputs": [
    {
     "data": {
      "text/plain": [
       "[0.14283772013100132, 0.9683333188295364]"
      ]
     },
     "execution_count": 10,
     "metadata": {},
     "output_type": "execute_result"
    }
   ],
   "source": [
    "# 테스트셋 평가\n",
    "results = model.evaluate_generator(test_generator)\n",
    "results\n"
   ]
  },
  {
   "cell_type": "markdown",
   "metadata": {},
   "source": [
    "테스트셋의 정확도가 96% 입니다. 이전의 92% 보다 수치가 높아졌습니다. 데이터 증식까지 적용하면 아마도 정확도가 더 향상되지 않을까 생각됩니다."
   ]
  },
  {
   "cell_type": "code",
   "execution_count": null,
   "metadata": {},
   "outputs": [],
   "source": []
  }
 ],
 "metadata": {
  "kernelspec": {
   "display_name": "Python 3",
   "language": "python",
   "name": "python3"
  },
  "language_info": {
   "codemirror_mode": {
    "name": "ipython",
    "version": 3
   },
   "file_extension": ".py",
   "mimetype": "text/x-python",
   "name": "python",
   "nbconvert_exporter": "python",
   "pygments_lexer": "ipython3",
   "version": "3.6.5"
  }
 },
 "nbformat": 4,
 "nbformat_minor": 2
}
