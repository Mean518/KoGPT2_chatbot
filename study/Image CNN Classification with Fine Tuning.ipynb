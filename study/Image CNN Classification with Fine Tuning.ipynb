{
 "cells": [
  {
   "cell_type": "code",
   "execution_count": 1,
   "metadata": {},
   "outputs": [
    {
     "name": "stderr",
     "output_type": "stream",
     "text": [
      "Using TensorFlow backend.\n"
     ]
    }
   ],
   "source": [
    "from keras import models\n",
    "from keras import layers\n",
    "from keras import optimizers, losses, metrics\n",
    "from keras.utils import to_categorical\n",
    "from keras.preprocessing.image import ImageDataGenerator\n",
    "from keras.applications import VGG16\n",
    "\n",
    "import numpy as np\n",
    "import matplotlib.pyplot as plt\n",
    "import os"
   ]
  },
  {
   "cell_type": "markdown",
   "metadata": {},
   "source": [
    "<br>\n",
    "<br>\n",
    "\n",
    "# 데이터 로드 / 전처리"
   ]
  },
  {
   "cell_type": "code",
   "execution_count": 2,
   "metadata": {},
   "outputs": [
    {
     "name": "stdout",
     "output_type": "stream",
     "text": [
      "Found 1800 images belonging to 10 classes.\n",
      "Found 600 images belonging to 10 classes.\n",
      "Found 600 images belonging to 10 classes.\n"
     ]
    }
   ],
   "source": [
    "# 데이터셋 디렉터리 경로\n",
    "dataset_dir = './dataset/caltech101'\n",
    "train_dir = os.path.join(dataset_dir, 'train')\n",
    "validation_dir = os.path.join(dataset_dir, 'validation')\n",
    "test_dir = os.path.join(dataset_dir, 'test')\n",
    "\n",
    "# 사진 크기\n",
    "image_width = 100\n",
    "image_height = 100\n",
    "\n",
    "# ImageDataGenerator 초기화\n",
    "# 0~1 사이로 숫자값 변경\n",
    "train_datagen = ImageDataGenerator(rescale=1./255)\n",
    "validation_datagen = ImageDataGenerator(rescale=1./255)\n",
    "test_datagen = ImageDataGenerator(rescale=1./255)\n",
    "\n",
    "# 훈련셋 제너레이터\n",
    "train_generator = train_datagen.flow_from_directory(\n",
    "    train_dir,\n",
    "    target_size=(image_width, image_height),\n",
    "    batch_size=30,\n",
    "    class_mode='categorical')\n",
    "\n",
    "# 검증셋 제너레이터\n",
    "validation_generator = validation_datagen.flow_from_directory(\n",
    "    validation_dir,\n",
    "    target_size=(image_width, image_height),\n",
    "    batch_size=30,\n",
    "    class_mode='categorical')\n",
    "\n",
    "# 테스트셋 제너레이터\n",
    "test_generator = test_datagen.flow_from_directory(\n",
    "    test_dir,\n",
    "    target_size=(image_width, image_height),\n",
    "    batch_size=30,\n",
    "    class_mode='categorical')\n"
   ]
  },
  {
   "cell_type": "markdown",
   "metadata": {},
   "source": [
    "<br>\n",
    "<br>\n",
    "\n",
    "# 모델 생성"
   ]
  },
  {
   "cell_type": "code",
   "execution_count": 3,
   "metadata": {},
   "outputs": [
    {
     "name": "stdout",
     "output_type": "stream",
     "text": [
      "_________________________________________________________________\n",
      "Layer (type)                 Output Shape              Param #   \n",
      "=================================================================\n",
      "input_1 (InputLayer)         (None, 100, 100, 3)       0         \n",
      "_________________________________________________________________\n",
      "block1_conv1 (Conv2D)        (None, 100, 100, 64)      1792      \n",
      "_________________________________________________________________\n",
      "block1_conv2 (Conv2D)        (None, 100, 100, 64)      36928     \n",
      "_________________________________________________________________\n",
      "block1_pool (MaxPooling2D)   (None, 50, 50, 64)        0         \n",
      "_________________________________________________________________\n",
      "block2_conv1 (Conv2D)        (None, 50, 50, 128)       73856     \n",
      "_________________________________________________________________\n",
      "block2_conv2 (Conv2D)        (None, 50, 50, 128)       147584    \n",
      "_________________________________________________________________\n",
      "block2_pool (MaxPooling2D)   (None, 25, 25, 128)       0         \n",
      "_________________________________________________________________\n",
      "block3_conv1 (Conv2D)        (None, 25, 25, 256)       295168    \n",
      "_________________________________________________________________\n",
      "block3_conv2 (Conv2D)        (None, 25, 25, 256)       590080    \n",
      "_________________________________________________________________\n",
      "block3_conv3 (Conv2D)        (None, 25, 25, 256)       590080    \n",
      "_________________________________________________________________\n",
      "block3_pool (MaxPooling2D)   (None, 12, 12, 256)       0         \n",
      "_________________________________________________________________\n",
      "block4_conv1 (Conv2D)        (None, 12, 12, 512)       1180160   \n",
      "_________________________________________________________________\n",
      "block4_conv2 (Conv2D)        (None, 12, 12, 512)       2359808   \n",
      "_________________________________________________________________\n",
      "block4_conv3 (Conv2D)        (None, 12, 12, 512)       2359808   \n",
      "_________________________________________________________________\n",
      "block4_pool (MaxPooling2D)   (None, 6, 6, 512)         0         \n",
      "_________________________________________________________________\n",
      "block5_conv1 (Conv2D)        (None, 6, 6, 512)         2359808   \n",
      "_________________________________________________________________\n",
      "block5_conv2 (Conv2D)        (None, 6, 6, 512)         2359808   \n",
      "_________________________________________________________________\n",
      "block5_conv3 (Conv2D)        (None, 6, 6, 512)         2359808   \n",
      "_________________________________________________________________\n",
      "block5_pool (MaxPooling2D)   (None, 3, 3, 512)         0         \n",
      "=================================================================\n",
      "Total params: 14,714,688\n",
      "Trainable params: 14,714,688\n",
      "Non-trainable params: 0\n",
      "_________________________________________________________________\n"
     ]
    }
   ],
   "source": [
    "# VGG16 모델 생성\n",
    "base_model = VGG16(weights='imagenet',\n",
    "                  include_top=False,\n",
    "                  input_shape=(image_width, image_height, 3))\n",
    "\n",
    "# 모델 구조 요약\n",
    "base_model.summary()\n"
   ]
  },
  {
   "cell_type": "code",
   "execution_count": 4,
   "metadata": {},
   "outputs": [],
   "source": [
    "# 우선은 베이스 모델을 학습이 가능하도록 설정\n",
    "base_model.trainable = True\n",
    "trainable_flag = False\n",
    "\n",
    "# 베이스 모델의 모든 층 반복\n",
    "for layer in base_model.layers:\n",
    "    # block5_conv1 이후 최상층 레이어만 학습이 되도록 설정\n",
    "    if layer.name == 'block5_conv1':\n",
    "        trainable_flag = True\n",
    "        \n",
    "    if trainable_flag:\n",
    "        layer.trainable = True\n",
    "    else:\n",
    "        layer.trainable = False"
   ]
  },
  {
   "cell_type": "markdown",
   "metadata": {},
   "source": [
    "특성 추출은 베이스 모델 전체가 학습이 안되게 고정합니다. 하지만 미세 조정(fine tuning)은 일부 레이어는 학습이 가능하도록 합니다. 이렇게 하면 완전연결층만 가중치를 조정하는 것보다 학습이 더 잘될 수 있습니다.\n",
    "<br>\n",
    "<br>\n",
    "<br>"
   ]
  },
  {
   "cell_type": "code",
   "execution_count": 5,
   "metadata": {},
   "outputs": [],
   "source": [
    "def build_model():\n",
    "    \n",
    "    model = models.Sequential()\n",
    "    model.add(base_model)\n",
    "    model.add(layers.Flatten())\n",
    "    model.add(layers.Dropout(0.5))\n",
    "    model.add(layers.Dense(256, activation='relu'))\n",
    "    model.add(layers.Dense(10, activation='softmax'))\n",
    "\n",
    "    model.compile(optimizer=optimizers.RMSprop(lr=1e-5), # 학습률 낮춤\n",
    "                  loss='categorical_crossentropy',\n",
    "                  metrics=['acc'])    \n",
    "    \n",
    "    return model"
   ]
  },
  {
   "cell_type": "markdown",
   "metadata": {},
   "source": [
    "이전과 동일한 모델이지만 옵티마이저의 학습률을 0.00001로 낮게 설정했습니다. 학습률을 변경하기 위해서는 위와 같이 optimizers로 새로 생성을 해야 합니다.\n",
    "\n",
    "미세 조정일 때는 이미 사전 훈련된 가중치를 급격하게 변동하지 않는게 좋습니다. 이전 기본 옵티마이저인 'rmsprop'의 디폴트 값은 0.001이었습니다."
   ]
  },
  {
   "cell_type": "markdown",
   "metadata": {},
   "source": [
    "<br>\n",
    "<br>\n",
    "\n",
    "# 훈련 및 평가"
   ]
  },
  {
   "cell_type": "code",
   "execution_count": 6,
   "metadata": {},
   "outputs": [
    {
     "name": "stdout",
     "output_type": "stream",
     "text": [
      "Epoch 1/25\n",
      "60/60 [==============================] - 492s 8s/step - loss: 1.3570 - acc: 0.5783 - val_loss: 0.6404 - val_acc: 0.8017\n",
      "Epoch 2/25\n",
      "60/60 [==============================] - 473s 8s/step - loss: 0.5869 - acc: 0.8233 - val_loss: 0.2851 - val_acc: 0.9250\n",
      "Epoch 3/25\n",
      "60/60 [==============================] - 478s 8s/step - loss: 0.2940 - acc: 0.9206 - val_loss: 0.1676 - val_acc: 0.9583\n",
      "Epoch 4/25\n",
      "60/60 [==============================] - 571s 10s/step - loss: 0.1550 - acc: 0.9594 - val_loss: 0.1229 - val_acc: 0.9700\n",
      "Epoch 5/25\n",
      "60/60 [==============================] - 525s 9s/step - loss: 0.1012 - acc: 0.9733 - val_loss: 0.1049 - val_acc: 0.9700\n",
      "Epoch 6/25\n",
      "60/60 [==============================] - 531s 9s/step - loss: 0.0634 - acc: 0.9806 - val_loss: 0.0908 - val_acc: 0.9717\n",
      "Epoch 7/25\n",
      "60/60 [==============================] - 616s 10s/step - loss: 0.0469 - acc: 0.9850 - val_loss: 0.0702 - val_acc: 0.9850\n",
      "Epoch 8/25\n",
      "60/60 [==============================] - 607s 10s/step - loss: 0.0342 - acc: 0.9917 - val_loss: 0.0784 - val_acc: 0.9817\n",
      "Epoch 9/25\n",
      "60/60 [==============================] - 531s 9s/step - loss: 0.0236 - acc: 0.9950 - val_loss: 0.0782 - val_acc: 0.9833\n",
      "Epoch 10/25\n",
      "60/60 [==============================] - 481s 8s/step - loss: 0.0165 - acc: 0.9972 - val_loss: 0.0750 - val_acc: 0.9767\n",
      "Epoch 11/25\n",
      "60/60 [==============================] - 513s 9s/step - loss: 0.0100 - acc: 0.9983 - val_loss: 0.0687 - val_acc: 0.9800\n",
      "Epoch 12/25\n",
      "60/60 [==============================] - 477s 8s/step - loss: 0.0071 - acc: 0.9994 - val_loss: 0.0792 - val_acc: 0.9800\n",
      "Epoch 13/25\n",
      "60/60 [==============================] - 502s 8s/step - loss: 0.0043 - acc: 0.9989 - val_loss: 0.0876 - val_acc: 0.9783\n",
      "Epoch 14/25\n",
      "60/60 [==============================] - 501s 8s/step - loss: 0.0048 - acc: 0.9989 - val_loss: 0.0776 - val_acc: 0.9833\n",
      "Epoch 15/25\n",
      "60/60 [==============================] - 549s 9s/step - loss: 0.0027 - acc: 1.0000 - val_loss: 0.0707 - val_acc: 0.9867\n",
      "Epoch 16/25\n",
      "60/60 [==============================] - 503s 8s/step - loss: 0.0018 - acc: 1.0000 - val_loss: 0.0793 - val_acc: 0.9850\n",
      "Epoch 17/25\n",
      "60/60 [==============================] - 500s 8s/step - loss: 0.0020 - acc: 0.9994 - val_loss: 0.0758 - val_acc: 0.9867\n",
      "Epoch 18/25\n",
      "60/60 [==============================] - 512s 9s/step - loss: 0.0028 - acc: 0.9994 - val_loss: 0.0592 - val_acc: 0.9867\n",
      "Epoch 19/25\n",
      "60/60 [==============================] - 498s 8s/step - loss: 0.0010 - acc: 1.0000 - val_loss: 0.0771 - val_acc: 0.9867\n",
      "Epoch 20/25\n",
      "60/60 [==============================] - 490s 8s/step - loss: 0.0014 - acc: 0.9994 - val_loss: 0.0836 - val_acc: 0.9867\n",
      "Epoch 21/25\n",
      "60/60 [==============================] - 473s 8s/step - loss: 0.0017 - acc: 0.9994 - val_loss: 0.0729 - val_acc: 0.9850\n",
      "Epoch 22/25\n",
      "60/60 [==============================] - 475s 8s/step - loss: 7.7385e-04 - acc: 1.0000 - val_loss: 0.0721 - val_acc: 0.9867\n",
      "Epoch 23/25\n",
      "60/60 [==============================] - 474s 8s/step - loss: 5.2731e-04 - acc: 1.0000 - val_loss: 0.0702 - val_acc: 0.9883\n",
      "Epoch 24/25\n",
      "60/60 [==============================] - 549s 9s/step - loss: 2.8670e-04 - acc: 1.0000 - val_loss: 0.0623 - val_acc: 0.9883\n",
      "Epoch 25/25\n",
      "60/60 [==============================] - 525s 9s/step - loss: 7.8592e-04 - acc: 1.0000 - val_loss: 0.0909 - val_acc: 0.9817\n"
     ]
    }
   ],
   "source": [
    "# 모델 생성\n",
    "model = build_model()\n",
    "\n",
    "# 훈련 시작\n",
    "history = model.fit_generator(train_generator,\n",
    "                              steps_per_epoch=60,\n",
    "                              epochs=25,\n",
    "                              validation_data=validation_generator,\n",
    "                              validation_steps=20)\n"
   ]
  },
  {
   "cell_type": "code",
   "execution_count": 7,
   "metadata": {},
   "outputs": [
    {
     "data": {
      "image/png": "[encoded data removed]",
      "text/plain": [
       "<Figure size 432x288 with 1 Axes>"
      ]
     },
     "metadata": {},
     "output_type": "display_data"
    }
   ],
   "source": [
    "loss = history.history['loss']         # 훈련 손실\n",
    "val_loss = history.history['val_loss'] # 검증 손실\n",
    "\n",
    "epochs = range(1, len(loss) + 1)\n",
    "\n",
    "plt.plot(epochs, loss, 'bo', label='Training loss')      # bo -> 파란색 점\n",
    "plt.plot(epochs, val_loss, 'b', label='Validation loss') # b -> 파란색 실선\n",
    "plt.title('Training and validation loss')\n",
    "plt.xlabel('Epochs')\n",
    "plt.ylabel('Loss')\n",
    "plt.legend()\n",
    "\n",
    "plt.show()\n"
   ]
  },
  {
   "cell_type": "code",
   "execution_count": 8,
   "metadata": {},
   "outputs": [
    {
     "data": {
      "image/png": "[encoded data removed]",
      "text/plain": [
       "<Figure size 432x288 with 1 Axes>"
      ]
     },
     "metadata": {},
     "output_type": "display_data"
    }
   ],
   "source": [
    "acc = history.history['acc']           # 훈련 정확도\n",
    "val_acc = history.history['val_acc']   # 검증 정확도\n",
    "\n",
    "plt.plot(epochs, acc, 'bo', label='Training acc')\n",
    "plt.plot(epochs, val_acc, 'b', label='Validation acc')\n",
    "plt.title('Training and validation accuracy')\n",
    "plt.xlabel('Epochs')\n",
    "plt.ylabel('Accuracy')\n",
    "plt.legend()\n",
    "\n",
    "plt.show()\n"
   ]
  },
  {
   "cell_type": "markdown",
   "metadata": {},
   "source": [
    "검증 정확도가 최고 98.8% 나왔습니다. 베이스 모델의 가중치를 고정한 특성 추출에서는 98.0% 였습니다. 많이는 아니지만 성능이 조금 향상되었습니다.\n",
    "<br>\n",
    "<br>\n",
    "<br>"
   ]
  },
  {
   "cell_type": "code",
   "execution_count": 9,
   "metadata": {},
   "outputs": [],
   "source": [
    "# 모델 저장\n",
    "model.save('./model/image_cnn_fine_tuning_model.h5')"
   ]
  },
  {
   "cell_type": "markdown",
   "metadata": {},
   "source": [
    "<br>\n",
    "<br>\n",
    "\n",
    "# 테스트셋 확인"
   ]
  },
  {
   "cell_type": "code",
   "execution_count": 10,
   "metadata": {},
   "outputs": [],
   "source": [
    "# 저장된 모델 파일 로드\n",
    "model = models.load_model('./model/image_cnn_fine_tuning_model.h5')"
   ]
  },
  {
   "cell_type": "code",
   "execution_count": 11,
   "metadata": {},
   "outputs": [
    {
     "data": {
      "text/plain": [
       "[0.06149363057843402, 0.989999994635582]"
      ]
     },
     "execution_count": 11,
     "metadata": {},
     "output_type": "execute_result"
    }
   ],
   "source": [
    "# 테스트셋 평가\n",
    "results = model.evaluate_generator(test_generator)\n",
    "results\n"
   ]
  },
  {
   "cell_type": "markdown",
   "metadata": {},
   "source": [
    "테스트셋의 정확도가 98.9% 입니다. 특성 추출에서의 96.8% 보다 2% 정도 올랐습니다."
   ]
  },
  {
   "cell_type": "code",
   "execution_count": null,
   "metadata": {},
   "outputs": [],
   "source": []
  }
 ],
 "metadata": {
  "kernelspec": {
   "display_name": "Python 3",
   "language": "python",
   "name": "python3"
  },
  "language_info": {
   "codemirror_mode": {
    "name": "ipython",
    "version": 3
   },
   "file_extension": ".py",
   "mimetype": "text/x-python",
   "name": "python",
   "nbconvert_exporter": "python",
   "pygments_lexer": "ipython3",
   "version": "3.6.5"
  }
 },
 "nbformat": 4,
 "nbformat_minor": 2
}
