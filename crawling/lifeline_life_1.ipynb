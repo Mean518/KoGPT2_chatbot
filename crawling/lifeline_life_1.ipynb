{
 "cells": [
  {
   "cell_type": "code",
   "execution_count": 1,
   "metadata": {},
   "outputs": [],
   "source": [
    "import pandas as pd\n",
    "import requests\n",
    "from bs4 import BeautifulSoup\n",
    "from selenium import webdriver\n",
    "import time\n",
    "from selenium.webdriver.common.keys import Keys"
   ]
  },
  {
   "cell_type": "code",
   "execution_count": 2,
   "metadata": {},
   "outputs": [],
   "source": [
    "driver=webdriver.Chrome(\"chromedriver83.exe\")\n",
    "driver.get('https://www.lifeline.or.kr/business/board.php')"
   ]
  },
  {
   "cell_type": "code",
   "execution_count": 3,
   "metadata": {},
   "outputs": [
    {
     "data": {
      "text/html": [
       "<div>\n",
       "<style scoped>\n",
       "    .dataframe tbody tr th:only-of-type {\n",
       "        vertical-align: middle;\n",
       "    }\n",
       "\n",
       "    .dataframe tbody tr th {\n",
       "        vertical-align: top;\n",
       "    }\n",
       "\n",
       "    .dataframe thead th {\n",
       "        text-align: right;\n",
       "    }\n",
       "</style>\n",
       "<table border=\"1\" class=\"dataframe\">\n",
       "  <thead>\n",
       "    <tr style=\"text-align: right;\">\n",
       "      <th></th>\n",
       "      <th>title</th>\n",
       "      <th>Q</th>\n",
       "      <th>A</th>\n",
       "      <th>seg</th>\n",
       "    </tr>\n",
       "  </thead>\n",
       "  <tbody>\n",
       "    <tr>\n",
       "      <th>0</th>\n",
       "      <td>0</td>\n",
       "      <td>0</td>\n",
       "      <td>0</td>\n",
       "      <td>0</td>\n",
       "    </tr>\n",
       "  </tbody>\n",
       "</table>\n",
       "</div>"
      ],
      "text/plain": [
       "   title  Q  A  seg\n",
       "0      0  0  0    0"
      ]
     },
     "execution_count": 3,
     "metadata": {},
     "output_type": "execute_result"
    }
   ],
   "source": [
    "pd.DataFrame({'title':[0],'Q':[0],'A':[0],'seg':[0]},columns=['title','Q','A','seg'])"
   ]
  },
  {
   "cell_type": "code",
   "execution_count": 4,
   "metadata": {},
   "outputs": [],
   "source": [
    "box = pd.DataFrame({'title':[0],'Q':[0],'A':[0],'seg':[0]},columns=['title','Q','A','seg'])"
   ]
  },
  {
   "cell_type": "code",
   "execution_count": 8,
   "metadata": {},
   "outputs": [],
   "source": [
    "driver.find_element_by_xpath('//*[@id=\"form\"]/table/tbody/tr[8]/td[3]/a/mark').click()"
   ]
  },
  {
   "cell_type": "code",
   "execution_count": 59,
   "metadata": {},
   "outputs": [],
   "source": [
    "title = driver.find_element_by_xpath('//*[@id=\"wrapper\"]/article/div[3]/table/thead/tr/th').text"
   ]
  },
  {
   "cell_type": "code",
   "execution_count": 8,
   "metadata": {},
   "outputs": [],
   "source": [
    "question = driver.find_element_by_xpath('//*[@id=\"wrapper\"]/article/div[3]/table/tbody/tr[2]/td').text"
   ]
  },
  {
   "cell_type": "code",
   "execution_count": 1,
   "metadata": {},
   "outputs": [],
   "source": [
    "from hanspell import spell_checker"
   ]
  },
  {
   "cell_type": "code",
   "execution_count": 9,
   "metadata": {},
   "outputs": [],
   "source": [
    "result = spell_checker.check(question)"
   ]
  },
  {
   "cell_type": "code",
   "execution_count": 13,
   "metadata": {},
   "outputs": [
    {
     "data": {
      "text/plain": [
       "'아내와 7살 딸이 있는데 사업실패후 한달한달 겨우 살아갑니다 더좋은 여생을 살고싶은데 지금으로서는 방법이 없어요 매일매일 누군가 저를 교통사고 내줬으면 하는 생각이 듭니다 그러면 제가 죽는다면 저도 편안할것 같고 보상금과 저의 생명보험금이 나오니 남은식구들이 편할것 같 다는 생각이듭니다 겁이많아 혼자서는 힘드네요ㅠ'"
      ]
     },
     "execution_count": 13,
     "metadata": {},
     "output_type": "execute_result"
    }
   ],
   "source": [
    "result[1]"
   ]
  },
  {
   "cell_type": "code",
   "execution_count": 16,
   "metadata": {},
   "outputs": [],
   "source": [
    "question_checked = result[2]"
   ]
  },
  {
   "cell_type": "code",
   "execution_count": 19,
   "metadata": {},
   "outputs": [],
   "source": [
    "answer = driver.find_element_by_xpath('//*[@id=\"wrapper\"]/article/div[3]/table/tbody/tr[3]/td').text"
   ]
  },
  {
   "cell_type": "code",
   "execution_count": 32,
   "metadata": {},
   "outputs": [],
   "source": [
    "answer = answer.replace('\\n',' ')"
   ]
  },
  {
   "cell_type": "code",
   "execution_count": 33,
   "metadata": {},
   "outputs": [
    {
     "data": {
      "text/plain": [
       "'답변내용 창하님. 사업 실패 이후 너무 고생을 하신 것 같습니다. 어떻게 하던 현 상황을 벗어나려고 발버둥을 쳤지만 대출이나 신용 등 모든 것이 막힌 상태 같습니다.  도움을 청할 데도 마땅치 않고, 벗어날 길도 안 보일 때, 절망만 가득합니다. 오죽하면 교통사고라도 당하고 싶은 심정이겠습니까.  실패 이후 얼마의 기간이 지났는지 모르지만 지금까지 너무 수고하셨습니다. 너무 고생이 많았습니다. 오늘 여기까지 버텨온 것을 칭찬합니다.  창하님. 어떻게 해서든지 버티고, 현 상황을 벗어나야 합니다. 창하님은 혼자가 아닙니다. 아내와 7살 된 딸이 있습니다. 어떻게 하든 재기를 하셔야 합니다.  어떤 일이 생겨 보험금으로 아내와 딸이 살아갈 수 있다지만 그들의 마음이 어디 편하겠습니까. 당장 돈이 최고인 것 같아도 살아보면 함께 하는 가족이 더 소중함을 이해하게 됩니다.  지금의 어려운 처지를 아내와 상의해보셨는지요. 인생길을 함께 가는 동반자의 지지가 필요합니다. 부부가 한마음이 되면 어떤 일이든지 극복해나갈 길이 생깁니다. 이미 아내와 상의를 해보았다면 다행이지만 그렇지 않았다면 함께 나누고, 지혜를 구하세요.  고용노동부 워크넷(www.work.go.kr) 고객센터 1350, 거주하는 곳의 지자체 사이트를 살펴보면 일자리 모집이 있습니다, 주민자치센터에 문의하는 것도 한 방법입니다.  힘들어도 조금은 담대했으면 좋겠습니다. 걱정은 더 큰 걱정에 휩싸이게 만듭니다. 사람은 의외로 강해서 어려운 상황에도 잘 버팁니다. 하지만 감정이 무너지면 대책이 어렵습니다. 감정이 무너지지 않도록 가족의 지지를 받고, 스스로 담대해지도록 힘써야 합니다.  아무쪼록 지금의 어려운 시기를 잘 이기고 재기한 창하님의 모습을 보고 싶습니다.  상담원 소금기둥'"
      ]
     },
     "execution_count": 33,
     "metadata": {},
     "output_type": "execute_result"
    }
   ],
   "source": [
    "answer"
   ]
  },
  {
   "cell_type": "code",
   "execution_count": 42,
   "metadata": {},
   "outputs": [],
   "source": [
    "name_index = answer.find('님.')"
   ]
  },
  {
   "cell_type": "code",
   "execution_count": 43,
   "metadata": {},
   "outputs": [],
   "source": [
    "list_index = answer.find('상담원')"
   ]
  },
  {
   "cell_type": "code",
   "execution_count": 37,
   "metadata": {},
   "outputs": [
    {
     "data": {
      "text/plain": [
       "'사업 실패 이후 너무 고생을 하신 것 같습니다. 어떻게 하던 현 상황을 벗어나려고 발버둥을 쳤지만 대출이나 신용 등 모든 것이 막힌 상태 같습니다.  도움을 청할 데도 마땅치 않고, 벗어날 길도 안 보일 때, 절망만 가득합니다. 오죽하면 교통사고라도 당하고 싶은 심정이겠습니까.  실패 이후 얼마의 기간이 지났는지 모르지만 지금까지 너무 수고하셨습니다. 너무 고생이 많았습니다. 오늘 여기까지 버텨온 것을 칭찬합니다.  창하님. 어떻게 해서든지 버티고, 현 상황을 벗어나야 합니다. 창하님은 혼자가 아닙니다. 아내와 7살 된 딸이 있습니다. 어떻게 하든 재기를 하셔야 합니다.  어떤 일이 생겨 보험금으로 아내와 딸이 살아갈 수 있다지만 그들의 마음이 어디 편하겠습니까. 당장 돈이 최고인 것 같아도 살아보면 함께 하는 가족이 더 소중함을 이해하게 됩니다.  지금의 어려운 처지를 아내와 상의해보셨는지요. 인생길을 함께 가는 동반자의 지지가 필요합니다. 부부가 한마음이 되면 어떤 일이든지 극복해나갈 길이 생깁니다. 이미 아내와 상의를 해보았다면 다행이지만 그렇지 않았다면 함께 나누고, 지혜를 구하세요.  고용노동부 워크넷(www.work.go.kr) 고객센터 1350, 거주하는 곳의 지자체 사이트를 살펴보면 일자리 모집이 있습니다, 주민자치센터에 문의하는 것도 한 방법입니다.  힘들어도 조금은 담대했으면 좋겠습니다. 걱정은 더 큰 걱정에 휩싸이게 만듭니다. 사람은 의외로 강해서 어려운 상황에도 잘 버팁니다. 하지만 감정이 무너지면 대책이 어렵습니다. 감정이 무너지지 않도록 가족의 지지를 받고, 스스로 담대해지도록 힘써야 합니다.  아무쪼록 지금의 어려운 시기를 잘 이기고 재기한 창하님의 모습을 보고 싶습니다.  상담원 소금기둥'"
      ]
     },
     "execution_count": 37,
     "metadata": {},
     "output_type": "execute_result"
    }
   ],
   "source": [
    "answer[10:]"
   ]
  },
  {
   "cell_type": "code",
   "execution_count": 44,
   "metadata": {},
   "outputs": [
    {
     "data": {
      "text/plain": [
       "'사업 실패 이후 너무 고생을 하신 것 같습니다. 어떻게 하던 현 상황을 벗어나려고 발버둥을 쳤지만 대출이나 신용 등 모든 것이 막힌 상태 같습니다.  도움을 청할 데도 마땅치 않고, 벗어날 길도 안 보일 때, 절망만 가득합니다. 오죽하면 교통사고라도 당하고 싶은 심정이겠습니까.  실패 이후 얼마의 기간이 지났는지 모르지만 지금까지 너무 수고하셨습니다. 너무 고생이 많았습니다. 오늘 여기까지 버텨온 것을 칭찬합니다.  창하님. 어떻게 해서든지 버티고, 현 상황을 벗어나야 합니다. 창하님은 혼자가 아닙니다. 아내와 7살 된 딸이 있습니다. 어떻게 하든 재기를 하셔야 합니다.  어떤 일이 생겨 보험금으로 아내와 딸이 살아갈 수 있다지만 그들의 마음이 어디 편하겠습니까. 당장 돈이 최고인 것 같아도 살아보면 함께 하는 가족이 더 소중함을 이해하게 됩니다.  지금의 어려운 처지를 아내와 상의해보셨는지요. 인생길을 함께 가는 동반자의 지지가 필요합니다. 부부가 한마음이 되면 어떤 일이든지 극복해나갈 길이 생깁니다. 이미 아내와 상의를 해보았다면 다행이지만 그렇지 않았다면 함께 나누고, 지혜를 구하세요.  고용노동부 워크넷(www.work.go.kr) 고객센터 1350, 거주하는 곳의 지자체 사이트를 살펴보면 일자리 모집이 있습니다, 주민자치센터에 문의하는 것도 한 방법입니다.  힘들어도 조금은 담대했으면 좋겠습니다. 걱정은 더 큰 걱정에 휩싸이게 만듭니다. 사람은 의외로 강해서 어려운 상황에도 잘 버팁니다. 하지만 감정이 무너지면 대책이 어렵습니다. 감정이 무너지지 않도록 가족의 지지를 받고, 스스로 담대해지도록 힘써야 합니다.  아무쪼록 지금의 어려운 시기를 잘 이기고 재기한 창하님의 모습을 보고 싶습니다.'"
      ]
     },
     "execution_count": 44,
     "metadata": {},
     "output_type": "execute_result"
    }
   ],
   "source": [
    "answer[name_index+3:list_index-2]"
   ]
  },
  {
   "cell_type": "code",
   "execution_count": 45,
   "metadata": {},
   "outputs": [],
   "source": [
    "answer_arranged = answer[name_index+3:list_index-2]"
   ]
  },
  {
   "cell_type": "code",
   "execution_count": null,
   "metadata": {},
   "outputs": [],
   "source": []
  },
  {
   "cell_type": "code",
   "execution_count": 57,
   "metadata": {},
   "outputs": [],
   "source": [
    "driver.get('https://www.lifeline.or.kr/business/board.php')"
   ]
  },
  {
   "cell_type": "code",
   "execution_count": 58,
   "metadata": {},
   "outputs": [],
   "source": [
    "driver.find_element_by_xpath('//*[@id=\"form\"]/table/tbody/tr[20]/td[3]/a/mark').click()"
   ]
  },
  {
   "cell_type": "code",
   "execution_count": 62,
   "metadata": {},
   "outputs": [
    {
     "data": {
      "text/plain": [
       "'정신(신체)건강자살충동'"
      ]
     },
     "execution_count": 62,
     "metadata": {},
     "output_type": "execute_result"
    }
   ],
   "source": [
    "title = driver.find_element_by_xpath('//*[@id=\"wrapper\"]/article/div[3]/table/thead/tr/th').text\n",
    "title"
   ]
  },
  {
   "cell_type": "code",
   "execution_count": 63,
   "metadata": {},
   "outputs": [
    {
     "data": {
      "text/plain": [
       "'저는 우울증이 아닌데 세상이 절 너무 힘들게합니다. 하루에 일어난 일만 설명하자면 기상예보에 비 안온다해서 우산 안 갖고 나갔더니 나가고 4분만에 비가오고 너무 많이와서 한동안 건물에서 피해있었는데 막상 비 좀 그치고 집 다시가서 우산 가져왔더니 또 비는 안오고 진짜 세상이 저한테 왜 그러는지 모르겠습니다. 내가 뭘 잘못했는데 이딴식으로 사람을 힘들게 하는지 모르겠고\\n가장 중요한건 오늘 원래 다른 사람에게 뭘 팔려해서 약속을 잡았는데 다르게 해서 제가 이득 볼 수 있는 방법이 생각나서 그 사람과의 약속을 취소하면서 위약금 성격으로 1만원을 제가 입금했습니다. 그리고 나서 다시 알아보니 그 사람과 거래 안하고 알아본 다른 방법이 뭔가 문제가 있을 수 있다는 생각과 당장 이 문제는 해결해야하는 상황에서 급하게 다시 취소한 사람에게 연락해서 다시 거래하자고 연락했습니다. 여기까지도 상당히 죄송한데 더 화나는건 여기서 또 그 다른 방법이 다시 문제가 없는걸로 나와서 다시 또 연락해서 다시 또 취소하고 5천원을 줬습니다.\\n아니 진짜 왜 그런건가요 세상이 나한테 저보고 살지말라고 세상이 이렇게 돌아가는거 같습니다.\\n진짜 너무 화나는것도 있고 짜증나면서 더 화나는건 그 사람한테 진짜 뭐 장난치는것도 아니고 그런식으로 얘기를 했다는게 죄책감에 견딜 수가 없습니다. 진짜 죽어야 이런게 없을거라는 생각 밖에 안 듭니다\\n세상이 나를 못살게 굴거라면 내가 사라져준다는 생각입니다.\\n이딴식으로 굴러갈거면 내가 사라진다는 거죠\\n진짜 도대체 왜 나한테 이런 짓거리가 벌어지는 걸까요\\n진짜 죽어야 편해질거 같은데\\n맞는 말 같아서 여쭤봅니다'"
      ]
     },
     "execution_count": 63,
     "metadata": {},
     "output_type": "execute_result"
    }
   ],
   "source": [
    "question = driver.find_element_by_xpath('//*[@id=\"wrapper\"]/article/div[3]/table/tbody/tr[2]/td').text\n",
    "question"
   ]
  },
  {
   "cell_type": "code",
   "execution_count": 65,
   "metadata": {},
   "outputs": [],
   "source": [
    "question = question.replace('\\n',' ')"
   ]
  },
  {
   "cell_type": "code",
   "execution_count": 69,
   "metadata": {},
   "outputs": [
    {
     "data": {
      "text/plain": [
       "'저는 우울증이 아닌데 세상이 절 너무 힘들게합니다. 하루에 일어난 일만 설명하자면 기상예보에 비 안온다해서 우산 안 갖고 나갔더니 나가고 4분만에 비가오고 너무 많이와서 한동안 건물에서 피해있었는데 막상 비 좀 그치고 집 다시가서 우산 가져왔더니 또 비는 안오고 진짜 세상이 저한테 왜 그러는지 모르겠습니다. 내가 뭘 잘못했는데 이딴식으로 사람을 힘들게 하는지 모르겠고 가장 중요한건 오늘 원래 다른 사람에게 뭘 팔려해서 약속을 잡았는데 다르게 해서 제가 이득 볼 수 있는 방법이 생각나서 그 사람과의 약속을 취소하면서 위약금 성격으로 1만원을 제가 입금했습니다. 그리고 나서 다시 알아보니 그 사람과 거래 안하고 알아본 다른 방법이 뭔가 문제가 있을 수 있다는 생각과 당장 이 문제는 해결해야하는 상황에서 급하게 다시 취소한 사람에게 연락해서 다시 거래하자고 연락했습니다. 여기까지도 상당히 죄송한데 더 화나는건 여기서 또 그 다른 방법이 다시 문제가 없는걸로 나와서 다시 또 연락해서 다시 '"
      ]
     },
     "execution_count": 69,
     "metadata": {},
     "output_type": "execute_result"
    }
   ],
   "source": [
    "question = question[:500]\n",
    "question"
   ]
  },
  {
   "cell_type": "code",
   "execution_count": 73,
   "metadata": {},
   "outputs": [],
   "source": [
    "list_dot = question[:500].rfind('.')"
   ]
  },
  {
   "cell_type": "code",
   "execution_count": 75,
   "metadata": {},
   "outputs": [],
   "source": [
    "question_slicing = question[:list_dot+1]"
   ]
  },
  {
   "cell_type": "code",
   "execution_count": 76,
   "metadata": {},
   "outputs": [
    {
     "data": {
      "text/plain": [
       "'저는 우울증이 아닌데 세상이 절 너무 힘들게합니다. 하루에 일어난 일만 설명하자면 기상예보에 비 안온다해서 우산 안 갖고 나갔더니 나가고 4분만에 비가오고 너무 많이와서 한동안 건물에서 피해있었는데 막상 비 좀 그치고 집 다시가서 우산 가져왔더니 또 비는 안오고 진짜 세상이 저한테 왜 그러는지 모르겠습니다. 내가 뭘 잘못했는데 이딴식으로 사람을 힘들게 하는지 모르겠고 가장 중요한건 오늘 원래 다른 사람에게 뭘 팔려해서 약속을 잡았는데 다르게 해서 제가 이득 볼 수 있는 방법이 생각나서 그 사람과의 약속을 취소하면서 위약금 성격으로 1만원을 제가 입금했습니다. 그리고 나서 다시 알아보니 그 사람과 거래 안하고 알아본 다른 방법이 뭔가 문제가 있을 수 있다는 생각과 당장 이 문제는 해결해야하는 상황에서 급하게 다시 취소한 사람에게 연락해서 다시 거래하자고 연락했습니다.'"
      ]
     },
     "execution_count": 76,
     "metadata": {},
     "output_type": "execute_result"
    }
   ],
   "source": [
    "result = spell_checker.check(question_slicing)\n",
    "result[1]"
   ]
  },
  {
   "cell_type": "code",
   "execution_count": 77,
   "metadata": {},
   "outputs": [
    {
     "data": {
      "text/plain": [
       "'저는 우울증이 아닌데 세상이 절 너무 힘들게 합니다. 하루에 일어난 일만 설명하자면 기상예보에 비 안 온다 해서 우산 안 갖고 나갔더니 나가고 4분 만에 비가 오고 너무 많이 와서 한동안 건물에서 피해있었는데 막상 비 좀 그치고 집 다시 가서 우산 가져왔더니 또 비는 안 오고 진짜 세상이 저한테 왜 그러는지 모르겠습니다. 내가 뭘 잘못했는데 이딴 식으로 사람을 힘들게 하는지 모르겠고 가장 중요한 건 오늘 원래 다른 사람에게 뭘 팔려 해서 약속을 잡았는데 다르게 해서 제가 이득 볼 수 있는 방법이 생각나서 그 사람과의 약속을 취소하면서 위약금 성격으로 1만 원을 제가 입금했습니다. 그러고 나서 다시 알아보니 그 사람과 거래 안 하고 알아본 다른 방법이 뭔가 문제가 있을 수 있다는 생각과 당장 이 문제는 해결해야 하는 상황에서 급하게 다시 취소한 사람에게 연락해서 다시 거래하자고 연락했습니다.'"
      ]
     },
     "execution_count": 77,
     "metadata": {},
     "output_type": "execute_result"
    }
   ],
   "source": [
    "result[2]"
   ]
  },
  {
   "cell_type": "code",
   "execution_count": 80,
   "metadata": {},
   "outputs": [],
   "source": [
    "answer = driver.find_element_by_xpath('//*[@id=\"wrapper\"]/article/div[3]/table/tbody/tr[3]/td').text\n",
    "answer = answer.replace('\\n',' ')\n",
    "answer = answer.replace('  ',' ')\n",
    "name_index = answer.find('님.')\n",
    "list_index = answer.find('상담원')\n",
    "answer_arranged  = answer[name_index+3:list_index-2]"
   ]
  },
  {
   "cell_type": "code",
   "execution_count": 82,
   "metadata": {},
   "outputs": [
    {
     "data": {
      "text/plain": [
       "745"
      ]
     },
     "execution_count": 82,
     "metadata": {},
     "output_type": "execute_result"
    }
   ],
   "source": [
    "len(answer_arranged)"
   ]
  },
  {
   "cell_type": "code",
   "execution_count": 83,
   "metadata": {},
   "outputs": [
    {
     "data": {
      "text/plain": [
       "'우울증은 아닌데 세상이 님을 힘들게 한다고 하셨습니다. 우산을 안 가지고 나가면 비가 오고, 우산을 가지고 나가면 비가 그치고... 어떤 사람과의 거래도 이상하게 꼬여서 시간도 소비하고 금전적으로도 손해를 보았습니다. “내가 뭘 잘못했는데 이딴 식으로 사람을 힘들게 하는지 모르겠다.” 님은 이렇게 말하셨습니다. 그럴 수도 있습니다. 세상이 님을 마구 대하는 것 같이 받아들일 수도 있습니다. 저라도 짜증이 났을 겁니다. 세상 살다보면 때론 어처구니없는 일을 당하기도 합니다. 이게 뭔가 싶은 일도 생기게 마련입니다. 자신이 원하는 일만 일어나는 경우는 흔하지 않습니다. “삶은 당신에게 어떤 일이 일어났느냐가 아니라 그것을 어떻게 해석했느냐에 따라 달라진다.” 어떤 사람의 말입니다. 어떤 안 좋은 일을 당하고 나서 어떤 사람은 좌절을 생각할 수 있으며, 또 어떤 사람은 시련을 극복하려는 의지를 더 발휘할 수도 있습니다. 우리에게 일어나는 수많은 일들은 결국 어떻게 받아 들이냐에 따라 해석이 달라집니다. 세상이 우리를 힘들게 하고, 속이는 것이 아니라 우리의 생각이 그렇게 만드는 것인지도 모릅니다. 님. 좋은 일이 생겨도 너무 기뻐할 일이 아닙니다. 안 좋은 일이 일어나도 너무 화를 낼 일도 아닙니다. 어떤 일이 생기던 마음의 여유를 가졌으면 합니다. 담담하게 자신에게 닥친 일들을 성실히 해나가다 보면 그 모든 것이 우리의 삶을 풍성하게 만든다고 생각합니다. 건강한 가운데 오늘 하루도 즐겁게, 열심히 사시기를 응원합니다'"
      ]
     },
     "execution_count": 83,
     "metadata": {},
     "output_type": "execute_result"
    }
   ],
   "source": [
    "if len(answer_arranged) >= 1000 :\n",
    "    "
   ]
  },
  {
   "cell_type": "code",
   "execution_count": null,
   "metadata": {},
   "outputs": [],
   "source": []
  }
 ],
 "metadata": {
  "kernelspec": {
   "display_name": "Python 3",
   "language": "python",
   "name": "python3"
  },
  "language_info": {
   "codemirror_mode": {
    "name": "ipython",
    "version": 3
   },
   "file_extension": ".py",
   "mimetype": "text/x-python",
   "name": "python",
   "nbconvert_exporter": "python",
   "pygments_lexer": "ipython3",
   "version": "3.7.6"
  }
 },
 "nbformat": 4,
 "nbformat_minor": 4
}
